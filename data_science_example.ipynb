{
 "cells": [
  {
   "cell_type": "markdown",
   "id": "68f7bdc9",
   "metadata": {},
   "source": [
    "# Data Science with Jupyter in VS Code\n",
    "\n",
    "This notebook demonstrates advanced data science capabilities using pandas, matplotlib, and seaborn."
   ]
  },
  {
   "cell_type": "code",
   "execution_count": null,
   "id": "58edd232",
   "metadata": {},
   "outputs": [],
   "source": [
    "# Import essential data science libraries\n",
    "import pandas as pd\n",
    "import numpy as np\n",
    "import matplotlib.pyplot as plt\n",
    "import seaborn as sns\n",
    "\n",
    "# Configure matplotlib for better plots\n",
    "plt.style.use('default')\n",
    "sns.set_palette(\"husl\")\n",
    "\n",
    "print(\"📊 Data Science libraries loaded successfully!\")\n",
    "print(f\"Pandas version: {pd.__version__}\")\n",
    "print(f\"NumPy version: {np.__version__}\")"
   ]
  },
  {
   "cell_type": "markdown",
   "id": "d44215de",
   "metadata": {},
   "source": [
    "## Creating Sample Data"
   ]
  },
  {
   "cell_type": "code",
   "execution_count": null,
   "id": "63d42612",
   "metadata": {},
   "outputs": [],
   "source": [
    "# Create a sample dataset\n",
    "np.random.seed(42)  # For reproducible results\n",
    "\n",
    "# Generate sample data\n",
    "n_samples = 100\n",
    "data = {\n",
    "    'age': np.random.normal(35, 10, n_samples).astype(int),\n",
    "    'salary': np.random.normal(75000, 25000, n_samples).astype(int),\n",
    "    'experience': np.random.normal(8, 4, n_samples).astype(int),\n",
    "    'department': np.random.choice(['Engineering', 'Marketing', 'Sales', 'HR'], n_samples),\n",
    "    'satisfaction': np.random.uniform(1, 10, n_samples).round(1)\n",
    "}\n",
    "\n",
    "# Create DataFrame\n",
    "df = pd.DataFrame(data)\n",
    "\n",
    "# Clean the data\n",
    "df['age'] = df['age'].clip(22, 65)  # Realistic age range\n",
    "df['salary'] = df['salary'].clip(40000, 150000)  # Realistic salary range\n",
    "df['experience'] = df['experience'].clip(0, 40)  # Realistic experience range\n",
    "\n",
    "print(f\"Dataset created with {len(df)} employees\")\n",
    "print(\"\\nFirst 5 rows:\")\n",
    "df.head()"
   ]
  },
  {
   "cell_type": "markdown",
   "id": "b0d0a003",
   "metadata": {},
   "source": [
    "## Data Analysis"
   ]
  },
  {
   "cell_type": "code",
   "execution_count": null,
   "id": "956acc25",
   "metadata": {},
   "outputs": [],
   "source": [
    "# Basic statistics\n",
    "print(\"📈 Dataset Overview:\")\n",
    "print(f\"Shape: {df.shape}\")\n",
    "print(f\"Columns: {list(df.columns)}\")\n",
    "print(\"\\n📊 Descriptive Statistics:\")\n",
    "df.describe().round(2)"
   ]
  },
  {
   "cell_type": "code",
   "execution_count": null,
   "id": "1cf19646",
   "metadata": {},
   "outputs": [],
   "source": [
    "# Department analysis\n",
    "print(\"🏢 Department Analysis:\")\n",
    "dept_stats = df.groupby('department').agg({\n",
    "    'salary': ['mean', 'median', 'count'],\n",
    "    'satisfaction': 'mean',\n",
    "    'experience': 'mean'\n",
    "}).round(2)\n",
    "\n",
    "dept_stats.columns = ['Avg_Salary', 'Median_Salary', 'Count', 'Avg_Satisfaction', 'Avg_Experience']\n",
    "dept_stats"
   ]
  },
  {
   "cell_type": "markdown",
   "id": "480a5e84",
   "metadata": {},
   "source": [
    "## Data Visualization"
   ]
  },
  {
   "cell_type": "code",
   "execution_count": null,
   "id": "e7a37195",
   "metadata": {},
   "outputs": [],
   "source": [
    "# Create a comprehensive dashboard\n",
    "fig, axes = plt.subplots(2, 2, figsize=(15, 12))\n",
    "fig.suptitle('Employee Data Analysis Dashboard', fontsize=16, fontweight='bold')\n",
    "\n",
    "# 1. Salary distribution by department\n",
    "sns.boxplot(data=df, x='department', y='salary', ax=axes[0,0])\n",
    "axes[0,0].set_title('Salary Distribution by Department')\n",
    "axes[0,0].tick_params(axis='x', rotation=45)\n",
    "\n",
    "# 2. Age vs Salary scatter plot\n",
    "sns.scatterplot(data=df, x='age', y='salary', hue='department', ax=axes[0,1])\n",
    "axes[0,1].set_title('Age vs Salary by Department')\n",
    "\n",
    "# 3. Experience vs Satisfaction\n",
    "sns.scatterplot(data=df, x='experience', y='satisfaction', ax=axes[1,0])\n",
    "axes[1,0].set_title('Experience vs Job Satisfaction')\n",
    "\n",
    "# 4. Department distribution\n",
    "dept_counts = df['department'].value_counts()\n",
    "axes[1,1].pie(dept_counts.values, labels=dept_counts.index, autopct='%1.1f%%')\n",
    "axes[1,1].set_title('Employee Distribution by Department')\n",
    "\n",
    "plt.tight_layout()\n",
    "plt.show()"
   ]
  },
  {
   "cell_type": "markdown",
   "id": "326666f8",
   "metadata": {},
   "source": [
    "## Interactive Analysis"
   ]
  },
  {
   "cell_type": "code",
   "execution_count": null,
   "id": "b7974e0f",
   "metadata": {},
   "outputs": [],
   "source": [
    "# Correlation analysis\n",
    "numeric_cols = ['age', 'salary', 'experience', 'satisfaction']\n",
    "correlation_matrix = df[numeric_cols].corr()\n",
    "\n",
    "plt.figure(figsize=(10, 8))\n",
    "sns.heatmap(correlation_matrix, \n",
    "           annot=True, \n",
    "           cmap='coolwarm', \n",
    "           center=0,\n",
    "           square=True,\n",
    "           fmt='.2f',\n",
    "           cbar_kws={'shrink': .8})\n",
    "plt.title('Correlation Matrix of Employee Metrics', fontsize=14, fontweight='bold')\n",
    "plt.tight_layout()\n",
    "plt.show()\n",
    "\n",
    "# Find strongest correlations\n",
    "print(\"🔍 Strongest Correlations:\")\n",
    "correlations = correlation_matrix.unstack().sort_values(ascending=False)\n",
    "# Remove self-correlations\n",
    "correlations = correlations[correlations < 1.0]\n",
    "print(correlations.head(6))"
   ]
  },
  {
   "cell_type": "markdown",
   "id": "19a8900d",
   "metadata": {},
   "source": [
    "## Key Insights\n",
    "\n",
    "This notebook demonstrates:\n",
    "\n",
    "✅ **Data Creation**: Generated realistic employee dataset  \n",
    "✅ **Data Analysis**: Descriptive statistics and groupby operations  \n",
    "✅ **Visualization**: Multiple chart types (box plots, scatter plots, pie charts, heatmaps)  \n",
    "✅ **Correlation Analysis**: Understanding relationships between variables  \n",
    "\n",
    "## Next Steps\n",
    "\n",
    "1. **Try different visualizations**: `plotly` for interactive charts\n",
    "2. **Machine Learning**: Use `scikit-learn` for predictive modeling\n",
    "3. **Real Data**: Load CSV/Excel files with `pd.read_csv()` or `pd.read_excel()`\n",
    "4. **Export Results**: Save plots and data summaries\n",
    "\n",
    "### Pro Tips for VS Code Jupyter:\n",
    "- Use `Ctrl/Cmd + Shift + P` → \"Python: Select Interpreter\" to switch kernels\n",
    "- Enable variable explorer in VS Code settings\n",
    "- Use `%%time` magic command to measure cell execution time\n",
    "- Try `!pip install package_name` to install packages directly in notebooks"
   ]
  }
 ],
 "metadata": {
  "language_info": {
   "name": "python"
  }
 },
 "nbformat": 4,
 "nbformat_minor": 5
}
