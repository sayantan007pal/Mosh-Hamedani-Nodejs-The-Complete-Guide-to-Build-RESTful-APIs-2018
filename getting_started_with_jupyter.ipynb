{
 "cells": [
  {
   "cell_type": "markdown",
   "id": "7992da16",
   "metadata": {},
   "source": [
    "# Getting Started with Jupyter Notebooks in VS Code\n",
    "\n",
    "Welcome to your first Jupyter notebook! This notebook will demonstrate the basic features and capabilities."
   ]
  },
  {
   "cell_type": "code",
   "execution_count": 1,
   "id": "8d763c19",
   "metadata": {},
   "outputs": [
    {
     "name": "stdout",
     "output_type": "stream",
     "text": [
      "Hello, Jupyter in VS Code!\n",
      "Python version: 3.13.3 (main, Apr  8 2025, 13:54:08) [Clang 16.0.0 (clang-1600.0.26.6)]\n",
      "10 + 20 = 30\n"
     ]
    }
   ],
   "source": [
    "# Basic Python operations\n",
    "print(\"Hello, Jupyter in VS Code!\")\n",
    "print(f\"Python version: {__import__('sys').version}\")\n",
    "\n",
    "# Simple calculations\n",
    "a = 10\n",
    "b = 20\n",
    "result = a + b\n",
    "print(f\"{a} + {b} = {result}\")"
   ]
  },
  {
   "cell_type": "markdown",
   "id": "e111dd2b",
   "metadata": {},
   "source": [
    "## Working with Data"
   ]
  },
  {
   "cell_type": "code",
   "execution_count": 2,
   "id": "745e5492",
   "metadata": {},
   "outputs": [
    {
     "name": "stdout",
     "output_type": "stream",
     "text": [
      "Sample data:\n",
      "name: ['Alice', 'Bob', 'Charlie', 'Diana', 'Eve']\n",
      "age: [25, 30, 35, 28, 32]\n",
      "score: [70, 72, 87, 70, 72]\n"
     ]
    }
   ],
   "source": [
    "# Create some sample data\n",
    "import random\n",
    "\n",
    "# Generate sample data\n",
    "data = {\n",
    "    'name': ['Alice', 'Bob', 'Charlie', 'Diana', 'Eve'],\n",
    "    'age': [25, 30, 35, 28, 32],\n",
    "    'score': [random.randint(70, 100) for _ in range(5)]\n",
    "}\n",
    "\n",
    "print(\"Sample data:\")\n",
    "for key, values in data.items():\n",
    "    print(f\"{key}: {values}\")"
   ]
  },
  {
   "cell_type": "markdown",
   "id": "73963df0",
   "metadata": {},
   "source": [
    "## Basic Visualization\n",
    "\n",
    "Let's create a simple plot using matplotlib (you can install it later if needed)."
   ]
  },
  {
   "cell_type": "code",
   "execution_count": 3,
   "id": "f7ebfa48",
   "metadata": {},
   "outputs": [
    {
     "name": "stdout",
     "output_type": "stream",
     "text": [
      "Age distribution (simple text chart):\n",
      "Alice    (25): █████\n",
      "Bob      (30): ██████\n",
      "Charlie  (35): ███████\n",
      "Diana    (28): █████\n",
      "Eve      (32): ██████\n",
      "\n",
      "Average age: 30.0\n",
      "Age range: 25 - 35\n"
     ]
    }
   ],
   "source": [
    "# Simple visualization without external libraries\n",
    "import math\n",
    "\n",
    "# Create a simple text-based chart\n",
    "print(\"Age distribution (simple text chart):\")\n",
    "for name, age in zip(data['name'], data['age']):\n",
    "    bar = '█' * (age // 5)  # Scale down for display\n",
    "    print(f\"{name:8s} ({age:2d}): {bar}\")\n",
    "\n",
    "# Calculate some statistics\n",
    "ages = data['age']\n",
    "avg_age = sum(ages) / len(ages)\n",
    "print(f\"\\nAverage age: {avg_age:.1f}\")\n",
    "print(f\"Age range: {min(ages)} - {max(ages)}\")"
   ]
  },
  {
   "cell_type": "markdown",
   "id": "2a926c65",
   "metadata": {},
   "source": [
    "## Next Steps\n",
    "\n",
    "Now you're ready to:\n",
    "\n",
    "1. **Install data science packages**: `pip install pandas matplotlib numpy seaborn`\n",
    "2. **Try interactive widgets**: `pip install ipywidgets`\n",
    "3. **Explore different kernels**: Switch between Python versions\n",
    "4. **Use Markdown cells**: For documentation and explanations\n",
    "5. **Export notebooks**: To HTML, PDF, or other formats\n",
    "\n",
    "### Useful VS Code Jupyter Shortcuts:\n",
    "- `Shift + Enter`: Run cell and move to next\n",
    "- `Ctrl + Enter`: Run cell and stay\n",
    "- `Escape`: Switch to command mode\n",
    "- `Enter`: Switch to edit mode\n",
    "- `A`: Add cell above\n",
    "- `B`: Add cell below\n",
    "- `DD`: Delete cell"
   ]
  }
 ],
 "metadata": {
  "kernelspec": {
   "display_name": ".venv",
   "language": "python",
   "name": "python3"
  },
  "language_info": {
   "codemirror_mode": {
    "name": "ipython",
    "version": 3
   },
   "file_extension": ".py",
   "mimetype": "text/x-python",
   "name": "python",
   "nbconvert_exporter": "python",
   "pygments_lexer": "ipython3",
   "version": "3.13.3"
  }
 },
 "nbformat": 4,
 "nbformat_minor": 5
}
